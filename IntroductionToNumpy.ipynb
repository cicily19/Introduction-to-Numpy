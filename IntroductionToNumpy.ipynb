{
  "nbformat": 4,
  "nbformat_minor": 0,
  "metadata": {
    "colab": {
      "provenance": [],
      "authorship_tag": "ABX9TyPFQRF7yLpztwxHjYZ1PgJl",
      "include_colab_link": true
    },
    "kernelspec": {
      "name": "python3",
      "display_name": "Python 3"
    },
    "language_info": {
      "name": "python"
    }
  },
  "cells": [
    {
      "cell_type": "markdown",
      "metadata": {
        "id": "view-in-github",
        "colab_type": "text"
      },
      "source": [
        "<a href=\"https://colab.research.google.com/github/cicily19/Introduction-to-Numpy/blob/main/IntroductionToNumpy.ipynb\" target=\"_parent\"><img src=\"https://colab.research.google.com/assets/colab-badge.svg\" alt=\"Open In Colab\"/></a>"
      ]
    },
    {
      "cell_type": "code",
      "execution_count": null,
      "metadata": {
        "id": "7QOWfBQ5eDzb"
      },
      "outputs": [],
      "source": []
    },
    {
      "cell_type": "markdown",
      "source": [
        "# What is Numpy\n",
        "\n",
        "Open Source Library hat forms the standard of working with numerical data(Matrix, Vectors) and forms the underlying foundation for libraries like Pandas and Matplotlib\n",
        "\n",
        "### Numpy Arrays\n",
        "This is the main data structure in Numpy and it has the following properties:\n",
        "\n",
        "1. Can only store a single data type\n",
        "2. Can be one-dimensional or multi-dimensional\n",
        "3. Fixed size: their elements can be modified but they are fixed size(cannot change the length)\n"
      ],
      "metadata": {
        "id": "EZOmgWvle33Z"
      }
    },
    {
      "cell_type": "code",
      "source": [
        "import numpy as np"
      ],
      "metadata": {
        "id": "7-MX3aC_gtPx"
      },
      "execution_count": 1,
      "outputs": []
    },
    {
      "cell_type": "code",
      "source": [
        "# converting a python list to a numpy array\n",
        "sales = [0, 5, 155, 0, 518, 0, 1827, 616, 317, 325]\n",
        "print(type(sales))"
      ],
      "metadata": {
        "colab": {
          "base_uri": "https://localhost:8080/"
        },
        "id": "2hE6fFHohBJp",
        "outputId": "7efd2de9-de32-40f8-e481-ac8a390ffd9a"
      },
      "execution_count": 2,
      "outputs": [
        {
          "output_type": "stream",
          "name": "stdout",
          "text": [
            "<class 'list'>\n"
          ]
        }
      ]
    },
    {
      "cell_type": "code",
      "source": [
        "sales_array = np.array(sales)\n",
        "print(type(sales_array))"
      ],
      "metadata": {
        "colab": {
          "base_uri": "https://localhost:8080/"
        },
        "id": "tj7d8sjthwXm",
        "outputId": "4d55c9be-f61b-487a-a9e8-5a5304107ad3"
      },
      "execution_count": 3,
      "outputs": [
        {
          "output_type": "stream",
          "name": "stdout",
          "text": [
            "<class 'numpy.ndarray'>\n"
          ]
        }
      ]
    },
    {
      "cell_type": "code",
      "source": [
        "# properties\n",
        "# ndim: number of dimensions\n",
        "# shape: rows and columns\n",
        "# size: total number of elements\n",
        "# dtype: Data Types within the array\n",
        "print(sales_array.ndim)\n",
        "print(sales_array.shape)\n",
        "print(sales_array.size)\n",
        "print(sales_array.dtype)"
      ],
      "metadata": {
        "colab": {
          "base_uri": "https://localhost:8080/"
        },
        "id": "3t6MnlakiOiK",
        "outputId": "1ce83026-3d64-4c52-b258-8d70f48c700f"
      },
      "execution_count": 4,
      "outputs": [
        {
          "output_type": "stream",
          "name": "stdout",
          "text": [
            "1\n",
            "(10,)\n",
            "10\n",
            "int64\n"
          ]
        }
      ]
    },
    {
      "cell_type": "code",
      "source": [
        "sales = [[0, 5, 155, 0, 518], [0, 1827, 616, 317, 325]]\n",
        "sales_array = np.array(sales)\n",
        "print(sales_array.ndim)\n",
        "print(sales_array.shape)\n",
        "print(sales_array.size)\n",
        "print(sales_array.dtype)"
      ],
      "metadata": {
        "colab": {
          "base_uri": "https://localhost:8080/"
        },
        "id": "AQzstR1BjF43",
        "outputId": "4eb7dae7-4780-4d38-ed15-b68214f015fa"
      },
      "execution_count": 5,
      "outputs": [
        {
          "output_type": "stream",
          "name": "stdout",
          "text": [
            "2\n",
            "(2, 5)\n",
            "10\n",
            "int64\n"
          ]
        }
      ]
    },
    {
      "cell_type": "markdown",
      "source": [
        "## Numpy Array Creation\n",
        "We use the following function:\n",
        "1. np.ones()\n",
        "2. np.zeros()\n",
        "3. np.arange()\n",
        "4. np.linespace()\n",
        "5. np.array.reshape()\n"
      ],
      "metadata": {
        "id": "KqwK3vtYkVH3"
      }
    },
    {
      "cell_type": "code",
      "source": [
        "# ones: float by default\n",
        "ones = np.ones(5)\n",
        "ones.dtype\n"
      ],
      "metadata": {
        "colab": {
          "base_uri": "https://localhost:8080/"
        },
        "id": "t0EbxDMclFbJ",
        "outputId": "03ffe185-9946-4971-9e68-1388129e5db6"
      },
      "execution_count": 6,
      "outputs": [
        {
          "output_type": "execute_result",
          "data": {
            "text/plain": [
              "dtype('float64')"
            ]
          },
          "metadata": {},
          "execution_count": 6
        }
      ]
    },
    {
      "cell_type": "code",
      "source": [
        "zeros = np.zeros(5, dtype=int)\n",
        "zeros.dtype"
      ],
      "metadata": {
        "colab": {
          "base_uri": "https://localhost:8080/"
        },
        "id": "l2ypPH3ylXa9",
        "outputId": "2042b765-dc34-4cf9-e20b-29e75a5a6565"
      },
      "execution_count": 7,
      "outputs": [
        {
          "output_type": "execute_result",
          "data": {
            "text/plain": [
              "dtype('int64')"
            ]
          },
          "metadata": {},
          "execution_count": 7
        }
      ]
    },
    {
      "cell_type": "code",
      "source": [
        "# arange(start, stop, step)\n",
        "np.arange(2, 10, 2).reshape(2, 2)\n"
      ],
      "metadata": {
        "colab": {
          "base_uri": "https://localhost:8080/"
        },
        "id": "RAkQkoy5lsa9",
        "outputId": "8b089ad6-a27d-4997-af81-a148f7a4789d"
      },
      "execution_count": 11,
      "outputs": [
        {
          "output_type": "execute_result",
          "data": {
            "text/plain": [
              "array([[2, 4],\n",
              "       [6, 8]])"
            ]
          },
          "metadata": {},
          "execution_count": 11
        }
      ]
    },
    {
      "cell_type": "code",
      "source": [
        "# linespace()\n",
        "np.linspace(0, 100, 5)"
      ],
      "metadata": {
        "colab": {
          "base_uri": "https://localhost:8080/"
        },
        "id": "apIa9mJgl319",
        "outputId": "fed2c3ef-f2f6-4cd7-d056-79655442bc31"
      },
      "execution_count": 9,
      "outputs": [
        {
          "output_type": "execute_result",
          "data": {
            "text/plain": [
              "array([  0.,  25.,  50.,  75., 100.])"
            ]
          },
          "metadata": {},
          "execution_count": 9
        }
      ]
    },
    {
      "cell_type": "code",
      "source": [
        "# linespace()\n",
        "np.linspace(0, 1, 5)"
      ],
      "metadata": {
        "colab": {
          "base_uri": "https://localhost:8080/"
        },
        "id": "sIHEIiBamFeV",
        "outputId": "8c2afbe4-b192-4ba7-9367-e2a20f0c6517"
      },
      "execution_count": 10,
      "outputs": [
        {
          "output_type": "execute_result",
          "data": {
            "text/plain": [
              "array([0.  , 0.25, 0.5 , 0.75, 1.  ])"
            ]
          },
          "metadata": {},
          "execution_count": 10
        }
      ]
    },
    {
      "cell_type": "markdown",
      "source": [
        "### Indexing and Slicing Numpy Arrays"
      ],
      "metadata": {
        "id": "ahBVnT0Rmt25"
      }
    },
    {
      "cell_type": "code",
      "source": [
        "counties = np.array([\"nairobi\", \"kisumu\", \"kericho\", \"nakuru\", \"kilifi\", \"kiambu\", \"laikipia\", \"nyeri\"])\n",
        "counties_array = np.array(counties).reshape(2, 4)\n",
        "counties_array"
      ],
      "metadata": {
        "colab": {
          "base_uri": "https://localhost:8080/"
        },
        "id": "b9VBg46Vm0Ao",
        "outputId": "0fe883f1-06e8-425b-9806-6d59a7c2a8d7"
      },
      "execution_count": 12,
      "outputs": [
        {
          "output_type": "execute_result",
          "data": {
            "text/plain": [
              "array([['nairobi', 'kisumu', 'kericho', 'nakuru'],\n",
              "       ['kilifi', 'kiambu', 'laikipia', 'nyeri']], dtype='<U8')"
            ]
          },
          "metadata": {},
          "execution_count": 12
        }
      ]
    },
    {
      "cell_type": "code",
      "source": [
        "kericho_county = counties_array[0, 2]\n",
        "kericho_county"
      ],
      "metadata": {
        "colab": {
          "base_uri": "https://localhost:8080/",
          "height": 36
        },
        "id": "n7CtOaMXoKlc",
        "outputId": "30459d43-0fcd-48a9-ea5b-82c784c753ec"
      },
      "execution_count": 13,
      "outputs": [
        {
          "output_type": "execute_result",
          "data": {
            "text/plain": [
              "'kericho'"
            ],
            "application/vnd.google.colaboratory.intrinsic+json": {
              "type": "string"
            }
          },
          "metadata": {},
          "execution_count": 13
        }
      ]
    },
    {
      "cell_type": "code",
      "source": [
        "kilifi_county = counties_array[1, 0]\n",
        "kilifi_county\n"
      ],
      "metadata": {
        "colab": {
          "base_uri": "https://localhost:8080/",
          "height": 36
        },
        "id": "QFmltGEPoWNJ",
        "outputId": "fd8bb7a0-5f5f-4989-e0ea-067261ea1296"
      },
      "execution_count": 14,
      "outputs": [
        {
          "output_type": "execute_result",
          "data": {
            "text/plain": [
              "'kilifi'"
            ],
            "application/vnd.google.colaboratory.intrinsic+json": {
              "type": "string"
            }
          },
          "metadata": {},
          "execution_count": 14
        }
      ]
    },
    {
      "cell_type": "code",
      "source": [
        "# access for all(:) the record, the first two columns\n",
        "counties_array.shape\n",
        "counties_array[:, :2]"
      ],
      "metadata": {
        "colab": {
          "base_uri": "https://localhost:8080/"
        },
        "id": "uuHRYWsxodyD",
        "outputId": "569d5e62-fb2c-4cde-8980-e8c1321a3fea"
      },
      "execution_count": 17,
      "outputs": [
        {
          "output_type": "execute_result",
          "data": {
            "text/plain": [
              "array([['nairobi', 'kisumu'],\n",
              "       ['kilifi', 'kiambu']], dtype='<U8')"
            ]
          },
          "metadata": {},
          "execution_count": 17
        }
      ]
    },
    {
      "cell_type": "code",
      "source": [
        "# first record of all the columns\n",
        "counties_array[0, :]"
      ],
      "metadata": {
        "colab": {
          "base_uri": "https://localhost:8080/"
        },
        "id": "OgB_jr_RpOO0",
        "outputId": "a0801f64-a8fa-4490-9902-2adb6c71881f"
      },
      "execution_count": 18,
      "outputs": [
        {
          "output_type": "execute_result",
          "data": {
            "text/plain": [
              "array(['nairobi', 'kisumu', 'kericho', 'nakuru'], dtype='<U8')"
            ]
          },
          "metadata": {},
          "execution_count": 18
        }
      ]
    },
    {
      "cell_type": "markdown",
      "source": [
        "### Filtering Numpy Arrays(Conditions)"
      ],
      "metadata": {
        "id": "lw7WGxZ5qAaL"
      }
    },
    {
      "cell_type": "code",
      "source": [
        "sales_array"
      ],
      "metadata": {
        "colab": {
          "base_uri": "https://localhost:8080/"
        },
        "id": "lqo-6o_wqOGt",
        "outputId": "d124d938-1356-46a3-bf1a-e21d1a221987"
      },
      "execution_count": 19,
      "outputs": [
        {
          "output_type": "execute_result",
          "data": {
            "text/plain": [
              "array([[   0,    5,  155,    0,  518],\n",
              "       [   0, 1827,  616,  317,  325]])"
            ]
          },
          "metadata": {},
          "execution_count": 19
        }
      ]
    },
    {
      "cell_type": "code",
      "source": [
        "condition = sales_array != 0\n",
        "sales_array[condition]"
      ],
      "metadata": {
        "colab": {
          "base_uri": "https://localhost:8080/"
        },
        "id": "pB7hokY5qbQp",
        "outputId": "39d89671-f44a-4c3a-b513-5050575532f8"
      },
      "execution_count": 20,
      "outputs": [
        {
          "output_type": "execute_result",
          "data": {
            "text/plain": [
              "array([   5,  155,  518, 1827,  616,  317,  325])"
            ]
          },
          "metadata": {},
          "execution_count": 20
        }
      ]
    },
    {
      "cell_type": "code",
      "source": [
        "# Filtering arrays with multiple conditions\n",
        "sales_array"
      ],
      "metadata": {
        "colab": {
          "base_uri": "https://localhost:8080/"
        },
        "id": "T8tEX6dFq2dv",
        "outputId": "f7ffceb1-4641-4744-9b34-17136a8836c3"
      },
      "execution_count": 21,
      "outputs": [
        {
          "output_type": "execute_result",
          "data": {
            "text/plain": [
              "array([[   0,    5,  155,    0,  518],\n",
              "       [   0, 1827,  616,  317,  325]])"
            ]
          },
          "metadata": {},
          "execution_count": 21
        }
      ]
    },
    {
      "cell_type": "code",
      "source": [
        "(sales_array == 616) | (sales_array < 100)\n"
      ],
      "metadata": {
        "colab": {
          "base_uri": "https://localhost:8080/"
        },
        "id": "ylJEoiLqrBrL",
        "outputId": "4b862c43-38a2-4df0-b377-54119cc61cc0"
      },
      "execution_count": 22,
      "outputs": [
        {
          "output_type": "execute_result",
          "data": {
            "text/plain": [
              "array([[ True,  True, False,  True, False],\n",
              "       [ True, False,  True, False, False]])"
            ]
          },
          "metadata": {},
          "execution_count": 22
        }
      ]
    },
    {
      "cell_type": "code",
      "source": [
        "sales_array[(sales_array == 616) | (sales_array < 100)]"
      ],
      "metadata": {
        "colab": {
          "base_uri": "https://localhost:8080/"
        },
        "id": "ZTx5edo5rcNN",
        "outputId": "d3f00a61-b327-47a9-af11-02744d9af0c1"
      },
      "execution_count": 23,
      "outputs": [
        {
          "output_type": "execute_result",
          "data": {
            "text/plain": [
              "array([  0,   5,   0,   0, 616])"
            ]
          },
          "metadata": {},
          "execution_count": 23
        }
      ]
    },
    {
      "cell_type": "code",
      "source": [
        "condition = (sales_array == 616) | (sales_array < 100)\n",
        "sales_array[condition]"
      ],
      "metadata": {
        "colab": {
          "base_uri": "https://localhost:8080/"
        },
        "id": "vLx_3lBGrh2e",
        "outputId": "a5ec0fa1-3912-44a3-d993-3848d6127780"
      },
      "execution_count": 24,
      "outputs": [
        {
          "output_type": "execute_result",
          "data": {
            "text/plain": [
              "array([  0,   5,   0,   0, 616])"
            ]
          },
          "metadata": {},
          "execution_count": 24
        }
      ]
    },
    {
      "cell_type": "code",
      "source": [
        "# Filtering using where(condition, ifblock, elseblock) condition\n",
        "sales_inventory = np.array([12, 18, 102, 0, 0])\n",
        "sales_inventory"
      ],
      "metadata": {
        "colab": {
          "base_uri": "https://localhost:8080/"
        },
        "id": "nevfDZystC-H",
        "outputId": "5ae36807-9abd-4ba8-ffea-8090938e4ac6"
      },
      "execution_count": 25,
      "outputs": [
        {
          "output_type": "execute_result",
          "data": {
            "text/plain": [
              "array([ 12,  18, 102,   0,   0])"
            ]
          },
          "metadata": {},
          "execution_count": 25
        }
      ]
    },
    {
      "cell_type": "code",
      "source": [
        "# where\n",
        "np.where(sales_inventory <=0, \"Out of Stock\", \"In Stock\")"
      ],
      "metadata": {
        "colab": {
          "base_uri": "https://localhost:8080/"
        },
        "id": "nI3dTLR8tgct",
        "outputId": "af53384c-c281-451d-b2a7-794861f18370"
      },
      "execution_count": 26,
      "outputs": [
        {
          "output_type": "execute_result",
          "data": {
            "text/plain": [
              "array(['In Stock', 'In Stock', 'In Stock', 'Out of Stock', 'Out of Stock'],\n",
              "      dtype='<U12')"
            ]
          },
          "metadata": {},
          "execution_count": 26
        }
      ]
    },
    {
      "cell_type": "code",
      "source": [
        "# products array\n",
        "products_array = np.array([\"egg\", \"milk\", \"bread\", \"rice\", \"beans\"])\n",
        "products_array"
      ],
      "metadata": {
        "colab": {
          "base_uri": "https://localhost:8080/"
        },
        "id": "ErTyUwnBuEK3",
        "outputId": "83d4bd77-74d0-4233-b340-7fec61f37dfd"
      },
      "execution_count": 27,
      "outputs": [
        {
          "output_type": "execute_result",
          "data": {
            "text/plain": [
              "array(['egg', 'milk', 'bread', 'rice', 'beans'], dtype='<U5')"
            ]
          },
          "metadata": {},
          "execution_count": 27
        }
      ]
    },
    {
      "cell_type": "code",
      "source": [
        "np.where(sales_inventory <=0, \"Out of Stock\", products_array)"
      ],
      "metadata": {
        "colab": {
          "base_uri": "https://localhost:8080/"
        },
        "id": "Bot3Lxfduc4F",
        "outputId": "81e37122-0b4f-4b15-888b-81aa61c1aec7"
      },
      "execution_count": 28,
      "outputs": [
        {
          "output_type": "execute_result",
          "data": {
            "text/plain": [
              "array(['egg', 'milk', 'bread', 'Out of Stock', 'Out of Stock'],\n",
              "      dtype='<U12')"
            ]
          },
          "metadata": {},
          "execution_count": 28
        }
      ]
    },
    {
      "cell_type": "markdown",
      "source": [
        "### Aggregation methods\n",
        "\n",
        "1. sum()\n",
        "2. mean()\n",
        "3. max()\n",
        "4. min()\n",
        "5. std()\n",
        "6. var()\n",
        "7.\n",
        "8.\n"
      ],
      "metadata": {
        "id": "B6szciDAvTUn"
      }
    },
    {
      "cell_type": "code",
      "source": [
        "sales_array"
      ],
      "metadata": {
        "colab": {
          "base_uri": "https://localhost:8080/"
        },
        "id": "BO4bZS50vpId",
        "outputId": "b22d8e9f-3a18-4444-bb6e-17c696adb394"
      },
      "execution_count": 29,
      "outputs": [
        {
          "output_type": "execute_result",
          "data": {
            "text/plain": [
              "array([[   0,    5,  155,    0,  518],\n",
              "       [   0, 1827,  616,  317,  325]])"
            ]
          },
          "metadata": {},
          "execution_count": 29
        }
      ]
    },
    {
      "cell_type": "code",
      "source": [
        "total_sales = sales_array.sum()\n",
        "total_sales"
      ],
      "metadata": {
        "colab": {
          "base_uri": "https://localhost:8080/"
        },
        "id": "gfP9e9Kdvu3I",
        "outputId": "f651b748-a064-4563-8c8f-f6fa69deaa28"
      },
      "execution_count": 30,
      "outputs": [
        {
          "output_type": "execute_result",
          "data": {
            "text/plain": [
              "3763"
            ]
          },
          "metadata": {},
          "execution_count": 30
        }
      ]
    },
    {
      "cell_type": "code",
      "source": [
        "sales_array.mean()\n"
      ],
      "metadata": {
        "colab": {
          "base_uri": "https://localhost:8080/"
        },
        "id": "B7FVyELTvzmR",
        "outputId": "824b5540-1fdc-40ef-e478-5bf51630f100"
      },
      "execution_count": 31,
      "outputs": [
        {
          "output_type": "execute_result",
          "data": {
            "text/plain": [
              "376.3"
            ]
          },
          "metadata": {},
          "execution_count": 31
        }
      ]
    },
    {
      "cell_type": "code",
      "source": [
        "sales_array.max()\n"
      ],
      "metadata": {
        "colab": {
          "base_uri": "https://localhost:8080/"
        },
        "id": "Ibw25vrWv6OK",
        "outputId": "c863d4bf-7299-475c-cd28-b5932b4e9e33"
      },
      "execution_count": 32,
      "outputs": [
        {
          "output_type": "execute_result",
          "data": {
            "text/plain": [
              "1827"
            ]
          },
          "metadata": {},
          "execution_count": 32
        }
      ]
    },
    {
      "cell_type": "code",
      "source": [
        "sales_array.min()"
      ],
      "metadata": {
        "colab": {
          "base_uri": "https://localhost:8080/"
        },
        "id": "Ry8YNUR2v9kR",
        "outputId": "986e36f2-8f4c-4e2c-b70d-9baa3ec8216c"
      },
      "execution_count": 33,
      "outputs": [
        {
          "output_type": "execute_result",
          "data": {
            "text/plain": [
              "0"
            ]
          },
          "metadata": {},
          "execution_count": 33
        }
      ]
    },
    {
      "cell_type": "code",
      "source": [
        "sales_array.std()"
      ],
      "metadata": {
        "colab": {
          "base_uri": "https://localhost:8080/"
        },
        "id": "_jpir8mKwBRP",
        "outputId": "5c133e60-5671-4bc1-eb7a-0d2787d2e970"
      },
      "execution_count": 34,
      "outputs": [
        {
          "output_type": "execute_result",
          "data": {
            "text/plain": [
              "529.1366647662965"
            ]
          },
          "metadata": {},
          "execution_count": 34
        }
      ]
    },
    {
      "cell_type": "code",
      "source": [
        "sales_array.var()"
      ],
      "metadata": {
        "colab": {
          "base_uri": "https://localhost:8080/"
        },
        "id": "gLfq77l-wEQ2",
        "outputId": "4b3d0522-905b-4b01-e686-4582083bbe1e"
      },
      "execution_count": 35,
      "outputs": [
        {
          "output_type": "execute_result",
          "data": {
            "text/plain": [
              "279985.61"
            ]
          },
          "metadata": {},
          "execution_count": 35
        }
      ]
    },
    {
      "cell_type": "code",
      "source": [
        "np.percentile(sales_array, [25, 75])"
      ],
      "metadata": {
        "colab": {
          "base_uri": "https://localhost:8080/"
        },
        "id": "2sVKNDmrwIIN",
        "outputId": "d45b8584-dd4e-4348-c689-10aeb1e04eea"
      },
      "execution_count": 36,
      "outputs": [
        {
          "output_type": "execute_result",
          "data": {
            "text/plain": [
              "array([  1.25, 469.75])"
            ]
          },
          "metadata": {},
          "execution_count": 36
        }
      ]
    }
  ]
}